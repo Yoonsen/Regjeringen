{
 "cells": [
  {
   "cell_type": "code",
   "execution_count": 3,
   "id": "e5a91dd5-27d8-4dad-93c6-372b3f26d62d",
   "metadata": {},
   "outputs": [],
   "source": [
    "import pandas as pd\n",
    "import os"
   ]
  },
  {
   "cell_type": "code",
   "execution_count": 44,
   "id": "76b0b6e4-2d89-4108-93fd-ac17d4a36ae7",
   "metadata": {},
   "outputs": [],
   "source": [
    "import json"
   ]
  },
  {
   "cell_type": "code",
   "execution_count": 69,
   "id": "47bf7c91-efb4-4bbf-87d4-7be64513db6c",
   "metadata": {},
   "outputs": [],
   "source": [
    "from IPython.display import Markdown"
   ]
  },
  {
   "cell_type": "code",
   "execution_count": 143,
   "id": "6d8a47e4-005a-4cc3-abcd-61ba541e13f6",
   "metadata": {},
   "outputs": [],
   "source": [
    "import numpy as np"
   ]
  },
  {
   "cell_type": "code",
   "execution_count": 2,
   "id": "3b5565a9-d146-4718-9472-2f45262fc994",
   "metadata": {},
   "outputs": [],
   "source": [
    "folder = \"/mnt/disk3/maalfrid_government/src\""
   ]
  },
  {
   "cell_type": "code",
   "execution_count": 9,
   "id": "900904c0-bc88-4b00-81af-d86d51530082",
   "metadata": {},
   "outputs": [],
   "source": [
    "files = [f\"{os.path.join(folder,x)}\" for x in os.listdir(folder) if x.startswith('regjeringen_doc')]"
   ]
  },
  {
   "cell_type": "code",
   "execution_count": 10,
   "id": "fa975dfb-b67b-4ce3-8ab5-0aa84989e78b",
   "metadata": {},
   "outputs": [
    {
     "data": {
      "text/plain": [
       "['/mnt/disk3/maalfrid_government/src/regjeringen_docs_2000.01.01_2009.12.31_archived.jsonl',\n",
       " '/mnt/disk3/maalfrid_government/src/regjeringen_docs_2000.01.01_2009.12.31_unarchived.jsonl',\n",
       " '/mnt/disk3/maalfrid_government/src/regjeringen_docs_2010_2024_archived.jsonl',\n",
       " '/mnt/disk3/maalfrid_government/src/regjeringen_docs_1814.01.01_1999.12.31_unarchived.jsonl',\n",
       " '/mnt/disk3/maalfrid_government/src/regjeringen_docs_2010_2024_unarchived.jsonl',\n",
       " '/mnt/disk3/maalfrid_government/src/regjeringen_docs_1814.01.01_1999.12.31_archived.jsonl']"
      ]
     },
     "execution_count": 10,
     "metadata": {},
     "output_type": "execute_result"
    }
   ],
   "source": [
    "files"
   ]
  },
  {
   "cell_type": "code",
   "execution_count": 161,
   "id": "438e0162-baca-4c8a-8f40-76fec150dd57",
   "metadata": {},
   "outputs": [],
   "source": [
    "df_regjering = pd.DataFrame()\n",
    "for file in files:\n",
    "    chunks = pd.read_json(file, lines = True, chunksize=10000)\n",
    "    for chunk in chunks:\n",
    "        df_regjering = pd.concat([df_regjering, chunk[chunk.pageType.str.contains(\"Høring|Høyring\")]])"
   ]
  },
  {
   "cell_type": "code",
   "execution_count": 165,
   "id": "25788663-1478-4c8c-ab42-b2a597489779",
   "metadata": {},
   "outputs": [
    {
     "data": {
      "text/html": [
       "<div>\n",
       "<style scoped>\n",
       "    .dataframe tbody tr th:only-of-type {\n",
       "        vertical-align: middle;\n",
       "    }\n",
       "\n",
       "    .dataframe tbody tr th {\n",
       "        vertical-align: top;\n",
       "    }\n",
       "\n",
       "    .dataframe thead th {\n",
       "        text-align: right;\n",
       "    }\n",
       "</style>\n",
       "<table border=\"1\" class=\"dataframe\">\n",
       "  <thead>\n",
       "    <tr style=\"text-align: right;\">\n",
       "      <th></th>\n",
       "      <th>documentId</th>\n",
       "      <th>uniqueId</th>\n",
       "      <th>language</th>\n",
       "      <th>masterLanguage</th>\n",
       "      <th>relatedLanguages</th>\n",
       "      <th>title</th>\n",
       "      <th>date</th>\n",
       "      <th>documentUrl</th>\n",
       "      <th>pageType</th>\n",
       "      <th>period</th>\n",
       "      <th>otherFormatType</th>\n",
       "      <th>publisher</th>\n",
       "      <th>additionalPublishers</th>\n",
       "      <th>hasContent</th>\n",
       "      <th>doc_mode</th>\n",
       "      <th>fulltext</th>\n",
       "      <th>filepath</th>\n",
       "      <th>additional_docs</th>\n",
       "      <th>owner</th>\n",
       "      <th>additionalOwners</th>\n",
       "    </tr>\n",
       "  </thead>\n",
       "  <tbody>\n",
       "    <tr>\n",
       "      <th>8194</th>\n",
       "      <td>2005783</td>\n",
       "      <td>HDK201420140068___DDDEPIS</td>\n",
       "      <td>nb</td>\n",
       "      <td>nb</td>\n",
       "      <td>[]</td>\n",
       "      <td>Høring – endringer i bostøtteloven</td>\n",
       "      <td>2014-10-08 00:00:00</td>\n",
       "      <td>https://www.regjeringen.no/no/dokumenter/Horin...</td>\n",
       "      <td>Høring</td>\n",
       "      <td>2014</td>\n",
       "      <td>None</td>\n",
       "      <td>NaN</td>\n",
       "      <td>NaN</td>\n",
       "      <td>True</td>\n",
       "      <td>html</td>\n",
       "      <td>[Kommunal- og moderniseringsdepartementet send...</td>\n",
       "      <td>mandat/html/83e718b48076b8ee3556c1cb82b733837d...</td>\n",
       "      <td>{\"main\": {\"/globalassets/upload/kmd/boby/bosto...</td>\n",
       "      <td>{'epiId': '504', 'depCode': 'kdd', 'depName': ...</td>\n",
       "      <td>[]</td>\n",
       "    </tr>\n",
       "    <tr>\n",
       "      <th>5446</th>\n",
       "      <td>271028</td>\n",
       "      <td>HDK200620060027JD_DDDEPIS</td>\n",
       "      <td>nb</td>\n",
       "      <td>nb</td>\n",
       "      <td>[]</td>\n",
       "      <td>Høring - hurtigere behandling av straffesaker</td>\n",
       "      <td>2006-09-28 00:00:00</td>\n",
       "      <td>https://www.regjeringen.no/no/dokumenter/horin...</td>\n",
       "      <td>Høring</td>\n",
       "      <td>2006</td>\n",
       "      <td>None</td>\n",
       "      <td>None</td>\n",
       "      <td>None</td>\n",
       "      <td>True</td>\n",
       "      <td>html</td>\n",
       "      <td>[Vedlagt følger høringsnotat\\nseptember 2006 o...</td>\n",
       "      <td>mandat/html/70bb203706549dcb288ec990f0a005e4ff...</td>\n",
       "      <td>{\"main\": {\"/globalassets/upload/jd/vedlegg/hor...</td>\n",
       "      <td>{'epiId': '463', 'depCode': 'jd', 'depName': '...</td>\n",
       "      <td>[]</td>\n",
       "    </tr>\n",
       "    <tr>\n",
       "      <th>10994</th>\n",
       "      <td>2426000</td>\n",
       "      <td>None</td>\n",
       "      <td>nb</td>\n",
       "      <td>nb</td>\n",
       "      <td>[]</td>\n",
       "      <td>Høring av rapport fra markedsbalanseringsutval...</td>\n",
       "      <td>2015-07-01 00:00:00</td>\n",
       "      <td>https://www.regjeringen.no/no/dokumenter/horin...</td>\n",
       "      <td>Høring</td>\n",
       "      <td>2015</td>\n",
       "      <td>None</td>\n",
       "      <td>None</td>\n",
       "      <td>None</td>\n",
       "      <td>True</td>\n",
       "      <td>html</td>\n",
       "      <td>[Markedsbalanseringsutvalget, ledet av profess...</td>\n",
       "      <td>mandat/html/78d1723fe380847d952ccfdbf4530841b7...</td>\n",
       "      <td>{\"main\": {}, \"attachments\": {}}</td>\n",
       "      <td>{'epiId': '627', 'depCode': 'lmd', 'depName': ...</td>\n",
       "      <td>[]</td>\n",
       "    </tr>\n",
       "  </tbody>\n",
       "</table>\n",
       "</div>"
      ],
      "text/plain": [
       "       documentId                   uniqueId language masterLanguage  \\\n",
       "8194      2005783  HDK201420140068___DDDEPIS       nb             nb   \n",
       "5446       271028  HDK200620060027JD_DDDEPIS       nb             nb   \n",
       "10994     2426000                       None       nb             nb   \n",
       "\n",
       "      relatedLanguages                                              title  \\\n",
       "8194                []                 Høring – endringer i bostøtteloven   \n",
       "5446                []      Høring - hurtigere behandling av straffesaker   \n",
       "10994               []  Høring av rapport fra markedsbalanseringsutval...   \n",
       "\n",
       "                      date                                        documentUrl  \\\n",
       "8194   2014-10-08 00:00:00  https://www.regjeringen.no/no/dokumenter/Horin...   \n",
       "5446   2006-09-28 00:00:00  https://www.regjeringen.no/no/dokumenter/horin...   \n",
       "10994  2015-07-01 00:00:00  https://www.regjeringen.no/no/dokumenter/horin...   \n",
       "\n",
       "      pageType  period otherFormatType publisher additionalPublishers  \\\n",
       "8194    Høring    2014            None       NaN                  NaN   \n",
       "5446    Høring    2006            None      None                 None   \n",
       "10994   Høring    2015            None      None                 None   \n",
       "\n",
       "      hasContent doc_mode                                           fulltext  \\\n",
       "8194        True     html  [Kommunal- og moderniseringsdepartementet send...   \n",
       "5446        True     html  [Vedlagt følger høringsnotat\\nseptember 2006 o...   \n",
       "10994       True     html  [Markedsbalanseringsutvalget, ledet av profess...   \n",
       "\n",
       "                                                filepath  \\\n",
       "8194   mandat/html/83e718b48076b8ee3556c1cb82b733837d...   \n",
       "5446   mandat/html/70bb203706549dcb288ec990f0a005e4ff...   \n",
       "10994  mandat/html/78d1723fe380847d952ccfdbf4530841b7...   \n",
       "\n",
       "                                         additional_docs  \\\n",
       "8194   {\"main\": {\"/globalassets/upload/kmd/boby/bosto...   \n",
       "5446   {\"main\": {\"/globalassets/upload/jd/vedlegg/hor...   \n",
       "10994                    {\"main\": {}, \"attachments\": {}}   \n",
       "\n",
       "                                                   owner additionalOwners  \n",
       "8194   {'epiId': '504', 'depCode': 'kdd', 'depName': ...               []  \n",
       "5446   {'epiId': '463', 'depCode': 'jd', 'depName': '...               []  \n",
       "10994  {'epiId': '627', 'depCode': 'lmd', 'depName': ...               []  "
      ]
     },
     "execution_count": 165,
     "metadata": {},
     "output_type": "execute_result"
    }
   ],
   "source": [
    "df_regjering.sample(3)"
   ]
  },
  {
   "cell_type": "code",
   "execution_count": 66,
   "id": "8f2e1fec-b7ed-421a-a3a5-e9176c20d9ca",
   "metadata": {},
   "outputs": [],
   "source": [
    "fs = []\n",
    "for x in json.loads(df.additional_docs.values[4000])['main'].values():\n",
    "    fs.append(os.path.join(folder, \"mandat\", \"pdf_markdown\", os.path.basename(x).replace('pdf', 'md')) )"
   ]
  },
  {
   "cell_type": "code",
   "execution_count": 163,
   "id": "930d1aad-be25-4ae1-b0e6-35a6b28aaadf",
   "metadata": {},
   "outputs": [],
   "source": [
    "publishers = df_regjering[df_regjering.pageType.str.contains(\"Høring|Høyring\")][['documentId','publisher']]"
   ]
  },
  {
   "cell_type": "code",
   "execution_count": 164,
   "id": "db7856fb-e0b3-4150-9e0b-b89c9e5d0056",
   "metadata": {},
   "outputs": [],
   "source": [
    "owners = df_regjering[df_regjering.pageType.str.contains(\"Høring|Høyring\")][['documentId','owner']]"
   ]
  },
  {
   "cell_type": "code",
   "execution_count": 166,
   "id": "ed539436-f698-452c-92e1-526c1259e2f8",
   "metadata": {},
   "outputs": [
    {
     "data": {
      "text/plain": [
       "22588    {'epiId': '279851', 'depCode': 'aid', 'depName...\n",
       "23701    {'epiId': '279851', 'depCode': 'aid', 'depName...\n",
       "28854    {'epiId': '279869', 'depCode': 'fin', 'depName...\n",
       "30432    {'epiId': '232462', 'depCode': 'ud', 'depName'...\n",
       "30863    {'epiId': '279851', 'depCode': 'aid', 'depName...\n",
       "                               ...                        \n",
       "8292     {'epiId': '231602', 'depCode': 'kd', 'depName'...\n",
       "8294     {'epiId': '231602', 'depCode': 'kd', 'depName'...\n",
       "8749     {'epiId': '231602', 'depCode': 'kd', 'depName'...\n",
       "10156    {'epiId': '231602', 'depCode': 'kd', 'depName'...\n",
       "10360    {'epiId': '231602', 'depCode': 'kd', 'depName'...\n",
       "Name: publisher, Length: 6516, dtype: object"
      ]
     },
     "execution_count": 166,
     "metadata": {},
     "output_type": "execute_result"
    }
   ],
   "source": [
    "publishers.publisher"
   ]
  },
  {
   "cell_type": "code",
   "execution_count": 168,
   "id": "8216de73-fe81-4439-8767-535d9ad39c93",
   "metadata": {},
   "outputs": [
    {
     "data": {
      "text/plain": [
       "10       {'epiId': '668', 'depCode': 'kld', 'depName': ...\n",
       "11       {'epiId': '463', 'depCode': 'jd', 'depName': '...\n",
       "15       {'epiId': '421', 'depCode': 'hod', 'depName': ...\n",
       "18       {'epiId': '463', 'depCode': 'jd', 'depName': '...\n",
       "21       {'epiId': '216', 'depCode': 'fin', 'depName': ...\n",
       "                               ...                        \n",
       "40404    {'epiId': '216', 'depCode': 'fin', 'depName': ...\n",
       "40416    {'epiId': '165', 'depCode': 'aid', 'depName': ...\n",
       "40534    {'epiId': '627', 'depCode': 'lmd', 'depName': ...\n",
       "40535    {'epiId': '165', 'depCode': 'aid', 'depName': ...\n",
       "40552    {'epiId': '463', 'depCode': 'jd', 'depName': '...\n",
       "Name: owner, Length: 6234, dtype: object"
      ]
     },
     "execution_count": 168,
     "metadata": {},
     "output_type": "execute_result"
    }
   ],
   "source": [
    "owners.owner.dropna()"
   ]
  },
  {
   "cell_type": "code",
   "execution_count": 169,
   "id": "5c408f11-c226-4d49-8475-79c3917c8d2d",
   "metadata": {},
   "outputs": [],
   "source": [
    "import pandas as pd\n",
    "\n",
    "# Use list comprehension to filter out entries that are not dictionaries\n",
    "filtered_pub = [{'documentId':y.id, **x} for y in publishers.publisher if isinstance(x, dict)]\n",
    "filtered_own = [{'documentId':y.id, **x} for y in owners.owner if isinstance(x, dict)]\n",
    "# Create DataFrame from the filtered list of dictionaries\n",
    "pub_df = pd.DataFrame(filtered_pub)\n",
    "own_df = pd.DataFrame(filtered_own)"
   ]
  },
  {
   "cell_type": "code",
   "execution_count": 184,
   "id": "fd2171be-2a95-483f-85c7-c5d7ae813713",
   "metadata": {},
   "outputs": [],
   "source": [
    "publishers_df = publishers['publisher'].apply(pd.Series)\n",
    "owners_df = owners['owner'].apply(pd.Series)\n",
    "\n",
    "# Ensure both DataFrames have 'documentId' to join on\n",
    "publishers_df['documentId'] = publishers['documentId']\n",
    "owners_df[\"documentId\"] = owners['documentId']\n",
    "\n",
    "# Join the DataFrames with høring\n",
    "høring_expanded = pd.merge(høring, publishers_df, on='documentId', how='left', suffixes=('', '_pub'))\n",
    "expand = pd.merge(høring_expanded, owners_df, on='documentId', how='left', suffixes=('', '_own'))\n",
    "expand['depName'] = expand['depName'].fillna(expand['depName_own'])\n",
    "expand['depCode'] = expand['depCode'].fillna(expand['depCode_own'])"
   ]
  },
  {
   "cell_type": "code",
   "execution_count": 185,
   "id": "1dd4fbbc-9c2f-4815-bfca-14d11ead632e",
   "metadata": {},
   "outputs": [],
   "source": [
    "expanded = expand[['documentId', 'depCode', 'depName']]"
   ]
  },
  {
   "cell_type": "code",
   "execution_count": 202,
   "id": "5017ba3f-53b3-4818-aa75-8695ab6be053",
   "metadata": {},
   "outputs": [
    {
     "data": {
      "text/plain": [
       "{'Arbeids- og administrasjonsdepartementet',\n",
       " 'Arbeids- og inkluderingsdepartementet',\n",
       " 'Arbeids- og sosialdepartementet',\n",
       " 'Barne- og familiedepartementet',\n",
       " 'Digitaliserings- og forvaltningsdepartementet',\n",
       " 'Energidepartementet',\n",
       " 'Finansdepartementet',\n",
       " 'Fiskeridepartementet',\n",
       " 'Forsvarsdepartementet',\n",
       " 'Helse- og omsorgsdepartementet',\n",
       " 'Helsedepartementet',\n",
       " 'Justis- og beredskapsdepartementet',\n",
       " 'Justis- og politidepartementet',\n",
       " 'Kirke-, utdannings- og forskningsdepartementet',\n",
       " 'Klima- og miljødepartementet',\n",
       " 'Kommunal- og distriktsdepartementet',\n",
       " 'Kommunal- og regionaldepartementet',\n",
       " 'Kultur- og kirkedepartementet',\n",
       " 'Kultur- og likestillingsdepartementet',\n",
       " 'Kulturdepartementet',\n",
       " 'Kunnskapsdepartementet',\n",
       " 'Landbruks- og matdepartementet',\n",
       " 'Landbruksdepartementet',\n",
       " 'Miljøverndepartementet',\n",
       " 'Nærings- og fiskeridepartementet',\n",
       " 'Nærings- og handelsdepartementet',\n",
       " 'Olje- og energidepartementet',\n",
       " 'Samferdselsdepartementet',\n",
       " 'Sosial- og helsedepartementet',\n",
       " 'Sosialdepartementet',\n",
       " 'Statsministerens kontor',\n",
       " 'Utenriksdepartementet',\n",
       " 'regjeringen.no'}"
      ]
     },
     "execution_count": 202,
     "metadata": {},
     "output_type": "execute_result"
    }
   ],
   "source": [
    "set(expanded.depName)"
   ]
  },
  {
   "cell_type": "code",
   "execution_count": 203,
   "id": "848c78de-7632-4c43-948f-af98ea642169",
   "metadata": {},
   "outputs": [
    {
     "data": {
      "text/html": [
       "<div>\n",
       "<style scoped>\n",
       "    .dataframe tbody tr th:only-of-type {\n",
       "        vertical-align: middle;\n",
       "    }\n",
       "\n",
       "    .dataframe tbody tr th {\n",
       "        vertical-align: top;\n",
       "    }\n",
       "\n",
       "    .dataframe thead th {\n",
       "        text-align: right;\n",
       "    }\n",
       "</style>\n",
       "<table border=\"1\" class=\"dataframe\">\n",
       "  <thead>\n",
       "    <tr style=\"text-align: right;\">\n",
       "      <th></th>\n",
       "      <th>documentId</th>\n",
       "      <th>depCode</th>\n",
       "      <th>depName</th>\n",
       "    </tr>\n",
       "  </thead>\n",
       "  <tbody>\n",
       "    <tr>\n",
       "      <th>140</th>\n",
       "      <td>421559</td>\n",
       "      <td>kuf</td>\n",
       "      <td>Kirke-, utdannings- og forskningsdepartementet</td>\n",
       "    </tr>\n",
       "    <tr>\n",
       "      <th>178</th>\n",
       "      <td>232755</td>\n",
       "      <td>kuf</td>\n",
       "      <td>Kirke-, utdannings- og forskningsdepartementet</td>\n",
       "    </tr>\n",
       "    <tr>\n",
       "      <th>224</th>\n",
       "      <td>232736</td>\n",
       "      <td>kuf</td>\n",
       "      <td>Kirke-, utdannings- og forskningsdepartementet</td>\n",
       "    </tr>\n",
       "    <tr>\n",
       "      <th>256</th>\n",
       "      <td>588785</td>\n",
       "      <td>kd</td>\n",
       "      <td>Kunnskapsdepartementet</td>\n",
       "    </tr>\n",
       "    <tr>\n",
       "      <th>268</th>\n",
       "      <td>586826</td>\n",
       "      <td>kd</td>\n",
       "      <td>Kunnskapsdepartementet</td>\n",
       "    </tr>\n",
       "    <tr>\n",
       "      <th>...</th>\n",
       "      <td>...</td>\n",
       "      <td>...</td>\n",
       "      <td>...</td>\n",
       "    </tr>\n",
       "    <tr>\n",
       "      <th>6423</th>\n",
       "      <td>2965159</td>\n",
       "      <td>kd</td>\n",
       "      <td>Kunnskapsdepartementet</td>\n",
       "    </tr>\n",
       "    <tr>\n",
       "      <th>6453</th>\n",
       "      <td>2961535</td>\n",
       "      <td>kd</td>\n",
       "      <td>Kunnskapsdepartementet</td>\n",
       "    </tr>\n",
       "    <tr>\n",
       "      <th>6465</th>\n",
       "      <td>2959688</td>\n",
       "      <td>kd</td>\n",
       "      <td>Kunnskapsdepartementet</td>\n",
       "    </tr>\n",
       "    <tr>\n",
       "      <th>6474</th>\n",
       "      <td>2958960</td>\n",
       "      <td>kd</td>\n",
       "      <td>Kunnskapsdepartementet</td>\n",
       "    </tr>\n",
       "    <tr>\n",
       "      <th>6481</th>\n",
       "      <td>421476</td>\n",
       "      <td>kuf</td>\n",
       "      <td>Kirke-, utdannings- og forskningsdepartementet</td>\n",
       "    </tr>\n",
       "  </tbody>\n",
       "</table>\n",
       "<p>539 rows × 3 columns</p>\n",
       "</div>"
      ],
      "text/plain": [
       "      documentId depCode                                         depName\n",
       "140       421559     kuf  Kirke-, utdannings- og forskningsdepartementet\n",
       "178       232755     kuf  Kirke-, utdannings- og forskningsdepartementet\n",
       "224       232736     kuf  Kirke-, utdannings- og forskningsdepartementet\n",
       "256       588785      kd                          Kunnskapsdepartementet\n",
       "268       586826      kd                          Kunnskapsdepartementet\n",
       "...          ...     ...                                             ...\n",
       "6423     2965159      kd                          Kunnskapsdepartementet\n",
       "6453     2961535      kd                          Kunnskapsdepartementet\n",
       "6465     2959688      kd                          Kunnskapsdepartementet\n",
       "6474     2958960      kd                          Kunnskapsdepartementet\n",
       "6481      421476     kuf  Kirke-, utdannings- og forskningsdepartementet\n",
       "\n",
       "[539 rows x 3 columns]"
      ]
     },
     "execution_count": 203,
     "metadata": {},
     "output_type": "execute_result"
    }
   ],
   "source": [
    "expanded[expanded.depName.str.contains('Kunnskap|Kirke')]"
   ]
  },
  {
   "cell_type": "code",
   "execution_count": 206,
   "id": "4eba10f1-3760-4a13-839f-3a7e8076f07b",
   "metadata": {},
   "outputs": [],
   "source": [
    "df_regjering.merge(expanded, left_on='documentId', right_on='documentId').to_csv('høringer.csv')"
   ]
  },
  {
   "cell_type": "code",
   "execution_count": 210,
   "id": "e83ca2c0-ce88-4dcc-aa35-8cde11b983bd",
   "metadata": {},
   "outputs": [],
   "source": [
    "df_regjering.merge(expanded, left_on='documentId', right_on='documentId').to_csv('høringer.csv')"
   ]
  },
  {
   "cell_type": "code",
   "execution_count": 94,
   "id": "dc494ed6-416a-4836-863e-bbd204bc764a",
   "metadata": {},
   "outputs": [],
   "source": [
    "høringer = høring.owner.dropna()"
   ]
  },
  {
   "cell_type": "code",
   "execution_count": 100,
   "id": "7d96c2c0-437e-4684-ba7c-1b24bb8b9b03",
   "metadata": {},
   "outputs": [
    {
     "data": {
      "text/plain": [
       "10       {'epiId': '668', 'depCode': 'kld', 'depName': ...\n",
       "11       {'epiId': '463', 'depCode': 'jd', 'depName': '...\n",
       "15       {'epiId': '421', 'depCode': 'hod', 'depName': ...\n",
       "18       {'epiId': '463', 'depCode': 'jd', 'depName': '...\n",
       "21       {'epiId': '216', 'depCode': 'fin', 'depName': ...\n",
       "                               ...                        \n",
       "40404    {'epiId': '216', 'depCode': 'fin', 'depName': ...\n",
       "40416    {'epiId': '165', 'depCode': 'aid', 'depName': ...\n",
       "40534    {'epiId': '627', 'depCode': 'lmd', 'depName': ...\n",
       "40535    {'epiId': '165', 'depCode': 'aid', 'depName': ...\n",
       "40552    {'epiId': '463', 'depCode': 'jd', 'depName': '...\n",
       "Name: owner, Length: 6234, dtype: object"
      ]
     },
     "execution_count": 100,
     "metadata": {},
     "output_type": "execute_result"
    }
   ],
   "source": [
    "høringer"
   ]
  }
 ],
 "metadata": {
  "kernelspec": {
   "display_name": "Python 3 (ipykernel)",
   "language": "python",
   "name": "python3"
  },
  "language_info": {
   "codemirror_mode": {
    "name": "ipython",
    "version": 3
   },
   "file_extension": ".py",
   "mimetype": "text/x-python",
   "name": "python",
   "nbconvert_exporter": "python",
   "pygments_lexer": "ipython3",
   "version": "3.11.5"
  }
 },
 "nbformat": 4,
 "nbformat_minor": 5
}
